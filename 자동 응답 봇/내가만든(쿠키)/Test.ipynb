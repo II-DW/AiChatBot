{
 "cells": [
  {
   "cell_type": "code",
   "execution_count": 1,
   "metadata": {},
   "outputs": [],
   "source": [
    "from konlpy.tag import Komoran\n",
    "komoran=Komoran()\n",
    "import json\n",
    "import pandas as pd"
   ]
  },
  {
   "cell_type": "code",
   "execution_count": 3,
   "metadata": {},
   "outputs": [],
   "source": [
    "import tensorflow as tf"
   ]
  },
  {
   "cell_type": "code",
   "execution_count": 2,
   "metadata": {},
   "outputs": [],
   "source": [
    "def preprocess_text(complaint, word_index, max_sequence_length):\n",
    "    # Tokenize the complaint into morphemes (words)\n",
    "    tokenized_complaint = komoran.morphs(complaint)  # Implement your tokenization function\n",
    "\n",
    "    # Convert morphemes to word indices using the word_index dictionary\n",
    "    indexed_complaint = [word_index[word] for word in tokenized_complaint if word in word_index]\n",
    "\n",
    "    # Pad or truncate the sequence to match max_sequence_length\n",
    "    padded_complaint = tf.keras.preprocessing.sequence.pad_sequences([indexed_complaint],\n",
    "                                                                     maxlen=max_sequence_length,\n",
    "                                                                     padding='post')\n",
    "\n",
    "    return padded_complaint"
   ]
  },
  {
   "cell_type": "code",
   "execution_count": 14,
   "metadata": {},
   "outputs": [],
   "source": [
    "def map_index_to_category(predicted_index):\n",
    "    categories = {0: '인사', 1: '작별인사', 2: '대건고 위치',\n",
    "                  3: '대건고 교훈', 4: '대건고 교목', 5: '대건고 교화'}\n",
    "\n",
    "    return categories[predicted_index]\n"
   ]
  },
  {
   "cell_type": "code",
   "execution_count": 25,
   "metadata": {},
   "outputs": [],
   "source": [
    "def predict_category(model, complaint, word_index, max_sequence_length):\n",
    "    # Preprocess the complaint\n",
    "    padded_complaint = preprocess_text(complaint, word_index, max_sequence_length)\n",
    "\n",
    "    # Make predictions using the model\n",
    "    predictions = model.predict(padded_complaint)\n",
    "\n",
    "    # Get the index of the category with the highest probability\n",
    "    predicted_category_index = tf.argmax(predictions[0]).numpy()\n",
    "\n",
    "    print(predicted_category_index)\n",
    "    \n",
    "    category = map_index_to_category(predicted_category_index)\n",
    "\n",
    "    return category\n"
   ]
  },
  {
   "cell_type": "code",
   "execution_count": 6,
   "metadata": {},
   "outputs": [],
   "source": [
    "def chatbot_response(user_input, model):\n",
    "    predicted_category_index = predict_category(user_input, model)\n",
    "    predicted_category = map_index_to_category(predicted_category_index)\n",
    "\n",
    "    response = f\"Thank you for your complaint. It falls under the category: {predicted_category}. We will look into it.\"\n",
    "\n",
    "    return response\n"
   ]
  },
  {
   "cell_type": "code",
   "execution_count": 7,
   "metadata": {},
   "outputs": [],
   "source": [
    "import pickle"
   ]
  },
  {
   "cell_type": "code",
   "execution_count": 26,
   "metadata": {},
   "outputs": [
    {
     "name": "stdout",
     "output_type": "stream",
     "text": [
      "WARNING:tensorflow:5 out of the last 5 calls to <function Model.make_predict_function.<locals>.predict_function at 0x0000028E05216710> triggered tf.function retracing. Tracing is expensive and the excessive number of tracings could be due to (1) creating @tf.function repeatedly in a loop, (2) passing tensors with different shapes, (3) passing Python objects instead of tensors. For (1), please define your @tf.function outside of the loop. For (2), @tf.function has reduce_retracing=True option that can avoid unnecessary retracing. For (3), please refer to https://www.tensorflow.org/guide/function#controlling_retracing and https://www.tensorflow.org/api_docs/python/tf/function for  more details.\n",
      "1/1 [==============================] - 0s 255ms/step\n",
      "5\n"
     ]
    }
   ],
   "source": [
    "# Assuming you have already loaded the trained model and word_index dictionary\n",
    "model = tf.keras.models.load_model('Chatbot_Model.h5')\n",
    "with open('Word_Dict.pkl','rb') as f:\n",
    "   word_index = pickle.load(f)\n",
    "#word_index = {'한국어': 1, '자연어': 2, ...}  # Your word_index dictionary\n",
    "\n",
    "# User input complaint\n",
    "user_complaint = \"안녕\"\n",
    "max_sequence_length = 10\n",
    "\n",
    "# Preprocess the complaint and get the padded sequence\n",
    "category = predict_category(model, user_complaint, word_index, max_sequence_length)\n",
    "\n",
    "# Make predictions using the model\n",
    "#predictions = model.predict(padded_complaint)\n"
   ]
  },
  {
   "cell_type": "code",
   "execution_count": 24,
   "metadata": {},
   "outputs": [
    {
     "data": {
      "text/plain": [
       "'대건고 교화'"
      ]
     },
     "execution_count": 24,
     "metadata": {},
     "output_type": "execute_result"
    }
   ],
   "source": [
    "category"
   ]
  },
  {
   "cell_type": "code",
   "execution_count": null,
   "metadata": {},
   "outputs": [],
   "source": []
  }
 ],
 "metadata": {
  "kernelspec": {
   "display_name": "Python 3",
   "language": "python",
   "name": "python3"
  },
  "language_info": {
   "codemirror_mode": {
    "name": "ipython",
    "version": 3
   },
   "file_extension": ".py",
   "mimetype": "text/x-python",
   "name": "python",
   "nbconvert_exporter": "python",
   "pygments_lexer": "ipython3",
   "version": "3.10.6"
  },
  "orig_nbformat": 4
 },
 "nbformat": 4,
 "nbformat_minor": 2
}
